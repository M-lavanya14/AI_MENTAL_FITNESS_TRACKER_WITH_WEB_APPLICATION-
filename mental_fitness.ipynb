{
 "cells": [
  {
   "cell_type": "code",
   "execution_count": 1,
   "metadata": {},
   "outputs": [],
   "source": [
    "import seaborn as sns\n",
    "import matplotlib.pyplot as plt\n",
    "import plotly.express as px\n",
    "import pandas as pd\n",
    "import numpy as np\n",
    "import warnings"
   ]
  },
  {
   "cell_type": "code",
   "execution_count": 8,
   "metadata": {},
   "outputs": [],
   "source": [
    "from sklearn.model_selection import train_test_split\n",
    "from sklearn.ensemble import RandomForestRegressor\n",
    "from sklearn.metrics import mean_squared_error, r2_score\n",
    "warnings.filterwarnings('ignore')\n",
    "from sklearn.preprocessing import LabelEncoder"
   ]
  },
  {
   "cell_type": "code",
   "execution_count": 9,
   "metadata": {},
   "outputs": [],
   "source": [
    "# Read data\n",
    "df1 = pd.read_csv(\"mental-and-substance-use-as-share-of-disease.csv\")\n",
    "df2 = pd.read_csv(\"prevalence-by-mental-and-substance-use-disorder.csv\")\n"
   ]
  },
  {
   "cell_type": "code",
   "execution_count": 10,
   "metadata": {},
   "outputs": [],
   "source": [
    "# Find common columns for merging\n",
    "common_columns = list(set(df1.columns) & set(df2.columns))\n",
    "\n",
    "# Merge data\n",
    "data = pd.merge(df1, df2, on=common_columns)\n",
    "\n",
    "# Drop unnecessary columns\n",
    "data.drop(['Code'], axis=1, inplace=True)"
   ]
  },
  {
   "cell_type": "code",
   "execution_count": 11,
   "metadata": {},
   "outputs": [
    {
     "name": "stdout",
     "output_type": "stream",
     "text": [
      "<class 'pandas.core.frame.DataFrame'>\n",
      "RangeIndex: 6840 entries, 0 to 6839\n",
      "Data columns (total 10 columns):\n",
      " #   Column            Non-Null Count  Dtype  \n",
      "---  ------            --------------  -----  \n",
      " 0   Country           6840 non-null   object \n",
      " 1   Year              6840 non-null   int64  \n",
      " 2   Schizophrenia     6840 non-null   float64\n",
      " 3   Bipolar_disorder  6840 non-null   float64\n",
      " 4   Eating_disorder   6840 non-null   float64\n",
      " 5   Anxiety           6840 non-null   float64\n",
      " 6   Drug_usage        6840 non-null   float64\n",
      " 7   Depression        6840 non-null   float64\n",
      " 8   Alcohol           6840 non-null   float64\n",
      " 9   Mental_fitness    6840 non-null   float64\n",
      "dtypes: float64(8), int64(1), object(1)\n",
      "memory usage: 534.5+ KB\n",
      "None\n"
     ]
    }
   ],
   "source": [
    "# Rename columns\n",
    "data.columns = ['Country', 'Year', 'Schizophrenia', 'Bipolar_disorder', 'Eating_disorder', 'Anxiety', 'Drug_usage', 'Depression', 'Alcohol', 'Mental_fitness']\n",
    "\n",
    "# Display basic information about the data\n",
    "print(data.info())"
   ]
  },
  {
   "cell_type": "code",
   "execution_count": 12,
   "metadata": {},
   "outputs": [],
   "source": [
    "# Data preprocessing: Label encoding for categorical columns\n",
    "le = LabelEncoder()\n",
    "for col in ['Country']:\n",
    "    data[col] = le.fit_transform(data[col])"
   ]
  },
  {
   "cell_type": "code",
   "execution_count": 13,
   "metadata": {},
   "outputs": [
    {
     "name": "stdout",
     "output_type": "stream",
     "text": [
      "Current Columns: Index(['Country', 'Year', 'Schizophrenia', 'Bipolar_disorder',\n",
      "       'Eating_disorder', 'Anxiety', 'Drug_usage', 'Depression', 'Alcohol',\n",
      "       'Mental_fitness'],\n",
      "      dtype='object')\n",
      "Number of Columns: 10\n"
     ]
    }
   ],
   "source": [
    "# Check the current columns and their count\n",
    "print(\"Current Columns:\", data.columns)\n",
    "print(\"Number of Columns:\", len(data.columns))"
   ]
  },
  {
   "cell_type": "code",
   "execution_count": 14,
   "metadata": {},
   "outputs": [],
   "source": [
    "# Split data into features (X) and target variable (y)\n",
    "X = data.drop('Mental_fitness', axis=1)\n",
    "y = data['Mental_fitness']"
   ]
  },
  {
   "cell_type": "code",
   "execution_count": 15,
   "metadata": {},
   "outputs": [
    {
     "data": {
      "text/html": [
       "<style>#sk-container-id-1 {color: black;background-color: white;}#sk-container-id-1 pre{padding: 0;}#sk-container-id-1 div.sk-toggleable {background-color: white;}#sk-container-id-1 label.sk-toggleable__label {cursor: pointer;display: block;width: 100%;margin-bottom: 0;padding: 0.3em;box-sizing: border-box;text-align: center;}#sk-container-id-1 label.sk-toggleable__label-arrow:before {content: \"▸\";float: left;margin-right: 0.25em;color: #696969;}#sk-container-id-1 label.sk-toggleable__label-arrow:hover:before {color: black;}#sk-container-id-1 div.sk-estimator:hover label.sk-toggleable__label-arrow:before {color: black;}#sk-container-id-1 div.sk-toggleable__content {max-height: 0;max-width: 0;overflow: hidden;text-align: left;background-color: #f0f8ff;}#sk-container-id-1 div.sk-toggleable__content pre {margin: 0.2em;color: black;border-radius: 0.25em;background-color: #f0f8ff;}#sk-container-id-1 input.sk-toggleable__control:checked~div.sk-toggleable__content {max-height: 200px;max-width: 100%;overflow: auto;}#sk-container-id-1 input.sk-toggleable__control:checked~label.sk-toggleable__label-arrow:before {content: \"▾\";}#sk-container-id-1 div.sk-estimator input.sk-toggleable__control:checked~label.sk-toggleable__label {background-color: #d4ebff;}#sk-container-id-1 div.sk-label input.sk-toggleable__control:checked~label.sk-toggleable__label {background-color: #d4ebff;}#sk-container-id-1 input.sk-hidden--visually {border: 0;clip: rect(1px 1px 1px 1px);clip: rect(1px, 1px, 1px, 1px);height: 1px;margin: -1px;overflow: hidden;padding: 0;position: absolute;width: 1px;}#sk-container-id-1 div.sk-estimator {font-family: monospace;background-color: #f0f8ff;border: 1px dotted black;border-radius: 0.25em;box-sizing: border-box;margin-bottom: 0.5em;}#sk-container-id-1 div.sk-estimator:hover {background-color: #d4ebff;}#sk-container-id-1 div.sk-parallel-item::after {content: \"\";width: 100%;border-bottom: 1px solid gray;flex-grow: 1;}#sk-container-id-1 div.sk-label:hover label.sk-toggleable__label {background-color: #d4ebff;}#sk-container-id-1 div.sk-serial::before {content: \"\";position: absolute;border-left: 1px solid gray;box-sizing: border-box;top: 0;bottom: 0;left: 50%;z-index: 0;}#sk-container-id-1 div.sk-serial {display: flex;flex-direction: column;align-items: center;background-color: white;padding-right: 0.2em;padding-left: 0.2em;position: relative;}#sk-container-id-1 div.sk-item {position: relative;z-index: 1;}#sk-container-id-1 div.sk-parallel {display: flex;align-items: stretch;justify-content: center;background-color: white;position: relative;}#sk-container-id-1 div.sk-item::before, #sk-container-id-1 div.sk-parallel-item::before {content: \"\";position: absolute;border-left: 1px solid gray;box-sizing: border-box;top: 0;bottom: 0;left: 50%;z-index: -1;}#sk-container-id-1 div.sk-parallel-item {display: flex;flex-direction: column;z-index: 1;position: relative;background-color: white;}#sk-container-id-1 div.sk-parallel-item:first-child::after {align-self: flex-end;width: 50%;}#sk-container-id-1 div.sk-parallel-item:last-child::after {align-self: flex-start;width: 50%;}#sk-container-id-1 div.sk-parallel-item:only-child::after {width: 0;}#sk-container-id-1 div.sk-dashed-wrapped {border: 1px dashed gray;margin: 0 0.4em 0.5em 0.4em;box-sizing: border-box;padding-bottom: 0.4em;background-color: white;}#sk-container-id-1 div.sk-label label {font-family: monospace;font-weight: bold;display: inline-block;line-height: 1.2em;}#sk-container-id-1 div.sk-label-container {text-align: center;}#sk-container-id-1 div.sk-container {/* jupyter's `normalize.less` sets `[hidden] { display: none; }` but bootstrap.min.css set `[hidden] { display: none !important; }` so we also need the `!important` here to be able to override the default hidden behavior on the sphinx rendered scikit-learn.org. See: https://github.com/scikit-learn/scikit-learn/issues/21755 */display: inline-block !important;position: relative;}#sk-container-id-1 div.sk-text-repr-fallback {display: none;}</style><div id=\"sk-container-id-1\" class=\"sk-top-container\"><div class=\"sk-text-repr-fallback\"><pre>RandomForestRegressor(random_state=42)</pre><b>In a Jupyter environment, please rerun this cell to show the HTML representation or trust the notebook. <br />On GitHub, the HTML representation is unable to render, please try loading this page with nbviewer.org.</b></div><div class=\"sk-container\" hidden><div class=\"sk-item\"><div class=\"sk-estimator sk-toggleable\"><input class=\"sk-toggleable__control sk-hidden--visually\" id=\"sk-estimator-id-1\" type=\"checkbox\" checked><label for=\"sk-estimator-id-1\" class=\"sk-toggleable__label sk-toggleable__label-arrow\">RandomForestRegressor</label><div class=\"sk-toggleable__content\"><pre>RandomForestRegressor(random_state=42)</pre></div></div></div></div></div>"
      ],
      "text/plain": [
       "RandomForestRegressor(random_state=42)"
      ]
     },
     "execution_count": 15,
     "metadata": {},
     "output_type": "execute_result"
    }
   ],
   "source": [
    "# Split the data into training and testing sets\n",
    "xtrain, xtest, ytrain, ytest = train_test_split(X, y, test_size=0.2, random_state=42)\n",
    "\n",
    "# Train RandomForestRegressor\n",
    "rf = RandomForestRegressor(random_state=42)\n",
    "rf.fit(xtrain, ytrain)"
   ]
  },
  {
   "cell_type": "code",
   "execution_count": 16,
   "metadata": {},
   "outputs": [
    {
     "name": "stdout",
     "output_type": "stream",
     "text": [
      "Training Set Performance:\n",
      "MSE: 0.000602196054841899\n",
      "RMSE: 0.02453968326694334\n",
      "R2 Score: 0.9993125634594937\n"
     ]
    }
   ],
   "source": [
    "# Model evaluation on the training set\n",
    "ytrain_pred = rf.predict(xtrain)\n",
    "mse_train = mean_squared_error(ytrain, ytrain_pred)\n",
    "rmse_train = np.sqrt(mse_train)\n",
    "r2_train = r2_score(ytrain, ytrain_pred)\n",
    "print(\"Training Set Performance:\")\n",
    "print('MSE:', mse_train)\n",
    "print('RMSE:', rmse_train)\n",
    "print('R2 Score:', r2_train)"
   ]
  },
  {
   "cell_type": "code",
   "execution_count": 17,
   "metadata": {},
   "outputs": [
    {
     "name": "stdout",
     "output_type": "stream",
     "text": [
      "\n",
      "Testing Set Performance:\n",
      "MSE: 0.003485207120089088\n",
      "RMSE: 0.05903564279390111\n",
      "R2 Score: 0.9959561016389319\n"
     ]
    }
   ],
   "source": [
    "# Model evaluation on the testing set\n",
    "ytest_pred = rf.predict(xtest)\n",
    "mse_test = mean_squared_error(ytest, ytest_pred)\n",
    "rmse_test = np.sqrt(mse_test)\n",
    "r2_test = r2_score(ytest, ytest_pred)\n",
    "\n",
    "print(\"\\nTesting Set Performance:\")\n",
    "print('MSE:', mse_test)\n",
    "print('RMSE:', rmse_test)\n",
    "print('R2 Score:', r2_test)"
   ]
  },
  {
   "cell_type": "code",
   "execution_count": 18,
   "metadata": {},
   "outputs": [
    {
     "name": "stdout",
     "output_type": "stream",
     "text": [
      "\n",
      "Your Predicted Mental Fitness is: 24.456323082999987%\n"
     ]
    }
   ],
   "source": [
    "# User input for prediction\n",
    "country_input = le.transform([input('Enter Your country Name:').strip()])[0]  # Added strip() to remove leading/trailing spaces\n",
    "year_input = int(input(\"Enter the year:\"))\n",
    "schi_input = float(input(\"Enter your Schizophrenia rate in %:\"))\n",
    "bipo_dis_input = float(input(\"Enter your Bipolar disorder rate in %:\"))\n",
    "eat_dis_input = float(input(\"Enter your Eating disorder rate in %:\"))\n",
    "anx_input = float(input(\"Enter your Anxiety rate in %:\"))\n",
    "drug_use_input = float(input(\"Enter your Drug Usage rate in %:\"))\n",
    "depr_input = float(input(\"Enter your Depression rate in %:\"))\n",
    "alch_input = float(input(\"Enter your Alcohol Consuming rate per year in %:\"))\n",
    "\n",
    "# Make prediction\n",
    "prediction = rf.predict([[country_input, year_input, schi_input, bipo_dis_input, eat_dis_input, anx_input, drug_use_input, depr_input, alch_input]])\n",
    "\n",
    "print(\"\\nYour Predicted Mental Fitness is: {}%\".format(prediction[0] * 10))"
   ]
  }
 ],
 "metadata": {
  "kernelspec": {
   "display_name": "Python 3",
   "language": "python",
   "name": "python3"
  },
  "language_info": {
   "codemirror_mode": {
    "name": "ipython",
    "version": 3
   },
   "file_extension": ".py",
   "mimetype": "text/x-python",
   "name": "python",
   "nbconvert_exporter": "python",
   "pygments_lexer": "ipython3",
   "version": "3.10.10"
  }
 },
 "nbformat": 4,
 "nbformat_minor": 2
}
